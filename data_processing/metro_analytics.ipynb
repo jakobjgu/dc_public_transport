{
 "cells": [
  {
   "cell_type": "code",
   "execution_count": 2,
   "id": "b7edbe05",
   "metadata": {},
   "outputs": [],
   "source": [
    "# imports\n",
    "\n",
    "import pandas as pd\n",
    "import re\n",
    "import duckdb\n",
    "import sys\n",
    "import os\n",
    "import matplotlib.pyplot as plt\n",
    "import seaborn as sns\n",
    "import mplcursors\n"
   ]
  },
  {
   "cell_type": "code",
   "execution_count": 3,
   "id": "da618a3c",
   "metadata": {},
   "outputs": [],
   "source": [
    "# define directories\n",
    "\n",
    "analytics_dir = os.getcwd()\n",
    "os.chdir(\"..\")\n",
    "root_dir = os.getcwd()"
   ]
  },
  {
   "cell_type": "code",
   "execution_count": null,
   "id": "b9a0f543",
   "metadata": {},
   "outputs": [],
   "source": [
    "def clean_metro_data(line):\n",
    "    # Match the first two tab-separated elements: station name and ID (e.g., A12)\n",
    "    match = re.match(r'^([^\\t]+)\\t([A-Z]\\d{2})', line)\n",
    "    if match:\n",
    "        return f\"{match.group(1)}\\t{match.group(2)}\"\n",
    "    return None\n",
    "\n",
    "# Example\n",
    "lines = [\n",
    "    \"Franconia–Springfield\tJ03\tJune 29, 1997\t\t\tVirginia Railway Express\",\n",
    "\"Southern terminus\",\n",
    "\"Van Dorn Street\tJ02\tJune 15, 1991\t\t\t\",\n",
    "\"King Street–Old Town\tC13\tDecember 17, 1983\t\t\tAmtrak Virginia Railway Express at Alexandria Union Station\",\n",
    "\"Transfer station for the Yellow Line (southern)\",\n",
    "\"Braddock Road\tC12\t\t\",\n",
    "\"Potomac Yard\tC11\tMay 19, 2023\t\t\tInfill station\",\n",
    "\"National Airport\tC10\tJuly 1, 1977\t\t\t\",\n",
    "\"Crystal City\tC09\t\t\tVirginia Railway Express Manassas Line, Fredericksburg Line\",\n",
    "\"Pentagon City\tC08\t\t\t\",\n",
    "\"Pentagon\tC07\t\t\tBuilt as a multi-level station due to geographic constraints, with trains heading south towards Huntington (Yellow Line) and Franconia–Springfield (Blue Line) on the lower level, and trains heading north towards Mount Vernon Square (Yellow Line) and Largo (Blue Line) on the upper level.\",\n",
    "\"Arlington Cemetery\tC06\t\t\t\",\n",
    "\"Rosslyn\tC05\t\t \tAnother multi-level station. Transfer station for the Orange and Silver Lines to join on same track\",\n",
    "\"Foggy Bottom–GWU\tC04\t\t\",\n",
    "\"Farragut West\tC03\t\tOut of station interchange (OSI) to the Red Line's Farragut North station, which is located just one block away. There have been proposals to connect up the two stations through an underground passageway, though it has not been financed.\",\n",
    "\"McPherson Square\tC02\t\t\",\n",
    "\"Metro Center\tC01\t\t  \tTransfer station for the Red Line\",\n",
    "\"Federal Triangle\tD01\t\t \t\",\n",
    "\"Smithsonian\tD02\t\t\",\n",
    "\"L'Enfant Plaza\tD03\t\t   \tVirginia Railway Express at L'Enfant\",\n",
    "\"Transfer station for the Green and Yellow Lines\",\n",
    "\"Federal Center SW\tD04\t\t \t\",\n",
    "\"Capitol South\tD05\t\t\",\n",
    "\"Eastern Market\tD06\t\t\",\n",
    "\"Potomac Avenue\tD07\t\t\",\n",
    "\"Stadium–Armory\tD08\t\tTransfer station for the Orange Line\",\n",
    "\"Benning Road\tG01\tNovember 22, 1980\t\t\t\",\n",
    "\"Capitol Heights\tG02\t\t\",\n",
    "\"Addison Road\tG03\t\t\",\n",
    "\"Morgan Boulevard\tG04\tDecember 18, 2004\t\t\",\n",
    "\"Largo\tG05\"\n",
    "]\n",
    "pre_cleaned = [clean_metro_data(line) for line in lines]\n",
    "\n",
    "def clean_station_lines(lines):\n",
    "    cleaned = []\n",
    "    for line in lines:\n",
    "        if line:\n",
    "            # Match station name + ID, ignoring tabs and multiple spaces\n",
    "            match = re.match(r'^(.*?)\\s+([A-Z]\\d{2})\\b', line.strip())\n",
    "            if match:\n",
    "                station, code = match.groups()\n",
    "                cleaned.append(f\"{station},{code},blue\")\n",
    "    return cleaned\n",
    "\n",
    "# Process\n",
    "lines = []\n",
    "for line in pre_cleaned:\n",
    "    if line:\n",
    "        lines.append(line.strip().splitlines())\n",
    "cleaned_lines = clean_station_lines(pre_cleaned)\n",
    "\n",
    "# # Output\n",
    "# for line in cleaned_lines:\n",
    "#     print(line)\n",
    "\n",
    "import csv\n",
    "\n",
    "with open(\"source_files/cleaned_stations.csv\", \"a\", newline=\"\", encoding=\"utf-8\") as f:\n",
    "    writer = csv.writer(f)\n",
    "    writer.writerow([\"Station Name\", \"Station ID\", \"Metroline\"])\n",
    "    for line in cleaned_lines:\n",
    "        writer.writerow(line.split(\",\"))"
   ]
  },
  {
   "cell_type": "code",
   "execution_count": 23,
   "id": "f66ca05e",
   "metadata": {},
   "outputs": [],
   "source": [
    "# os.chdir(\"..\")\n",
    "with duckdb.connect(root_dir + \"/metro_analytics_dbt/dev.duckdb\") as con:\n",
    "    raw = con.sql(\"from stg_ridership;\").df()"
   ]
  },
  {
   "cell_type": "code",
   "execution_count": 24,
   "id": "2a18f965",
   "metadata": {},
   "outputs": [
    {
     "data": {
      "application/vnd.microsoft.datawrangler.viewer.v0+json": {
       "columns": [
        {
         "name": "index",
         "rawType": "int64",
         "type": "integer"
        },
        {
         "name": "ridership_key",
         "rawType": "object",
         "type": "string"
        },
        {
         "name": "ent_station",
         "rawType": "object",
         "type": "string"
        },
        {
         "name": "ext_station",
         "rawType": "object",
         "type": "string"
        },
        {
         "name": "ent_time_period",
         "rawType": "object",
         "type": "string"
        },
        {
         "name": "day_type",
         "rawType": "object",
         "type": "string"
        },
        {
         "name": "riders",
         "rawType": "float64",
         "type": "float"
        },
        {
         "name": "trip_length",
         "rawType": "int64",
         "type": "integer"
        }
       ],
       "conversionMethod": "pd.DataFrame",
       "ref": "910cac35-14e7-4ded-8cf8-57f2d67b5258",
       "rows": [
        [
         "0",
         "ba08dc9fc4c2477de67bd000e38f6c9e",
         "addison road",
         "addison road",
         "AM Peak",
         "weekday",
         "7.772727272727272",
         "0"
        ],
        [
         "1",
         "28074a97ee94dba0bcd953f03a70bef2",
         "addison road",
         "anacostia",
         "AM Peak",
         "weekday",
         "10.363636363636363",
         "11"
        ],
        [
         "2",
         "4ee1ff0188c3548f94b23b52837f84e9",
         "addison road",
         "archives",
         "AM Peak",
         "weekday",
         "35.18181818181818",
         "9"
        ],
        [
         "3",
         "472fd9c4b9ec742cc4cedb76ed680e40",
         "addison road",
         "arlington cemetery",
         "AM Peak",
         "weekday",
         "0.4090909090909091",
         "10"
        ],
        [
         "4",
         "94c8218592bf00604b72dcb315ae0776",
         "addison road",
         "ballston-mu",
         "AM Peak",
         "weekday",
         "22.727272727272727",
         "15"
        ]
       ],
       "shape": {
        "columns": 7,
        "rows": 5
       }
      },
      "text/html": [
       "<div>\n",
       "<style scoped>\n",
       "    .dataframe tbody tr th:only-of-type {\n",
       "        vertical-align: middle;\n",
       "    }\n",
       "\n",
       "    .dataframe tbody tr th {\n",
       "        vertical-align: top;\n",
       "    }\n",
       "\n",
       "    .dataframe thead th {\n",
       "        text-align: right;\n",
       "    }\n",
       "</style>\n",
       "<table border=\"1\" class=\"dataframe\">\n",
       "  <thead>\n",
       "    <tr style=\"text-align: right;\">\n",
       "      <th></th>\n",
       "      <th>ridership_key</th>\n",
       "      <th>ent_station</th>\n",
       "      <th>ext_station</th>\n",
       "      <th>ent_time_period</th>\n",
       "      <th>day_type</th>\n",
       "      <th>riders</th>\n",
       "      <th>trip_length</th>\n",
       "    </tr>\n",
       "  </thead>\n",
       "  <tbody>\n",
       "    <tr>\n",
       "      <th>0</th>\n",
       "      <td>ba08dc9fc4c2477de67bd000e38f6c9e</td>\n",
       "      <td>addison road</td>\n",
       "      <td>addison road</td>\n",
       "      <td>AM Peak</td>\n",
       "      <td>weekday</td>\n",
       "      <td>7.772727</td>\n",
       "      <td>0</td>\n",
       "    </tr>\n",
       "    <tr>\n",
       "      <th>1</th>\n",
       "      <td>28074a97ee94dba0bcd953f03a70bef2</td>\n",
       "      <td>addison road</td>\n",
       "      <td>anacostia</td>\n",
       "      <td>AM Peak</td>\n",
       "      <td>weekday</td>\n",
       "      <td>10.363636</td>\n",
       "      <td>11</td>\n",
       "    </tr>\n",
       "    <tr>\n",
       "      <th>2</th>\n",
       "      <td>4ee1ff0188c3548f94b23b52837f84e9</td>\n",
       "      <td>addison road</td>\n",
       "      <td>archives</td>\n",
       "      <td>AM Peak</td>\n",
       "      <td>weekday</td>\n",
       "      <td>35.181818</td>\n",
       "      <td>9</td>\n",
       "    </tr>\n",
       "    <tr>\n",
       "      <th>3</th>\n",
       "      <td>472fd9c4b9ec742cc4cedb76ed680e40</td>\n",
       "      <td>addison road</td>\n",
       "      <td>arlington cemetery</td>\n",
       "      <td>AM Peak</td>\n",
       "      <td>weekday</td>\n",
       "      <td>0.409091</td>\n",
       "      <td>10</td>\n",
       "    </tr>\n",
       "    <tr>\n",
       "      <th>4</th>\n",
       "      <td>94c8218592bf00604b72dcb315ae0776</td>\n",
       "      <td>addison road</td>\n",
       "      <td>ballston-mu</td>\n",
       "      <td>AM Peak</td>\n",
       "      <td>weekday</td>\n",
       "      <td>22.727273</td>\n",
       "      <td>15</td>\n",
       "    </tr>\n",
       "  </tbody>\n",
       "</table>\n",
       "</div>"
      ],
      "text/plain": [
       "                      ridership_key   ent_station         ext_station  \\\n",
       "0  ba08dc9fc4c2477de67bd000e38f6c9e  addison road        addison road   \n",
       "1  28074a97ee94dba0bcd953f03a70bef2  addison road           anacostia   \n",
       "2  4ee1ff0188c3548f94b23b52837f84e9  addison road            archives   \n",
       "3  472fd9c4b9ec742cc4cedb76ed680e40  addison road  arlington cemetery   \n",
       "4  94c8218592bf00604b72dcb315ae0776  addison road         ballston-mu   \n",
       "\n",
       "  ent_time_period day_type     riders  trip_length  \n",
       "0         AM Peak  weekday   7.772727            0  \n",
       "1         AM Peak  weekday  10.363636           11  \n",
       "2         AM Peak  weekday  35.181818            9  \n",
       "3         AM Peak  weekday   0.409091           10  \n",
       "4         AM Peak  weekday  22.727273           15  "
      ]
     },
     "execution_count": 24,
     "metadata": {},
     "output_type": "execute_result"
    }
   ],
   "source": [
    "raw.head()"
   ]
  },
  {
   "cell_type": "code",
   "execution_count": 8,
   "id": "3ee6e265",
   "metadata": {},
   "outputs": [],
   "source": [
    "entry_df = raw.groupby(['ext_station', 'day_type']).agg({'riders':'sum'}).reset_index(drop=False)"
   ]
  },
  {
   "cell_type": "code",
   "execution_count": 13,
   "id": "babf9266",
   "metadata": {},
   "outputs": [
    {
     "data": {
      "application/vnd.microsoft.datawrangler.viewer.v0+json": {
       "columns": [
        {
         "name": "index",
         "rawType": "int64",
         "type": "integer"
        },
        {
         "name": "ext_station",
         "rawType": "object",
         "type": "string"
        },
        {
         "name": "day_type",
         "rawType": "object",
         "type": "string"
        },
        {
         "name": "riders",
         "rawType": "float64",
         "type": "float"
        }
       ],
       "conversionMethod": "pd.DataFrame",
       "ref": "c918ff9e-31b6-455d-bf2e-513d0c875db9",
       "rows": [
        [
         "87",
         "federal triangle",
         "saturday",
         "2954.75"
        ],
        [
         "88",
         "federal triangle",
         "sunday",
         "2805.25"
        ],
        [
         "89",
         "federal triangle",
         "weekday",
         "9706.284090909092"
        ]
       ],
       "shape": {
        "columns": 3,
        "rows": 3
       }
      },
      "text/html": [
       "<div>\n",
       "<style scoped>\n",
       "    .dataframe tbody tr th:only-of-type {\n",
       "        vertical-align: middle;\n",
       "    }\n",
       "\n",
       "    .dataframe tbody tr th {\n",
       "        vertical-align: top;\n",
       "    }\n",
       "\n",
       "    .dataframe thead th {\n",
       "        text-align: right;\n",
       "    }\n",
       "</style>\n",
       "<table border=\"1\" class=\"dataframe\">\n",
       "  <thead>\n",
       "    <tr style=\"text-align: right;\">\n",
       "      <th></th>\n",
       "      <th>ext_station</th>\n",
       "      <th>day_type</th>\n",
       "      <th>riders</th>\n",
       "    </tr>\n",
       "  </thead>\n",
       "  <tbody>\n",
       "    <tr>\n",
       "      <th>87</th>\n",
       "      <td>federal triangle</td>\n",
       "      <td>saturday</td>\n",
       "      <td>2954.750000</td>\n",
       "    </tr>\n",
       "    <tr>\n",
       "      <th>88</th>\n",
       "      <td>federal triangle</td>\n",
       "      <td>sunday</td>\n",
       "      <td>2805.250000</td>\n",
       "    </tr>\n",
       "    <tr>\n",
       "      <th>89</th>\n",
       "      <td>federal triangle</td>\n",
       "      <td>weekday</td>\n",
       "      <td>9706.284091</td>\n",
       "    </tr>\n",
       "  </tbody>\n",
       "</table>\n",
       "</div>"
      ],
      "text/plain": [
       "         ext_station  day_type       riders\n",
       "87  federal triangle  saturday  2954.750000\n",
       "88  federal triangle    sunday  2805.250000\n",
       "89  federal triangle   weekday  9706.284091"
      ]
     },
     "execution_count": 13,
     "metadata": {},
     "output_type": "execute_result"
    }
   ],
   "source": [
    "entry_df[entry_df['ext_station'].str.contains('federal triangle')].head()"
   ]
  },
  {
   "cell_type": "code",
   "execution_count": 32,
   "id": "e09af47d",
   "metadata": {},
   "outputs": [],
   "source": [
    "with duckdb.connect(root_dir + \"/metro_analytics_dbt/dev.duckdb\") as con:\n",
    "    raw = con.sql(\"from mart__exit_volume_by_station_and_period;\").df()"
   ]
  },
  {
   "cell_type": "code",
   "execution_count": null,
   "id": "5c4c9aff",
   "metadata": {},
   "outputs": [],
   "source": [
    "sns.catplot(\n",
    "    x=\"day_type\",\n",
    "    y=\"sum_exits\",\n",
    "    data=raw,\n",
    "    hue=\"station\",\n",
    "    kind=\"point\",\n",
    "    errorbar=None\n",
    ")\n",
    "plt.show()"
   ]
  },
  {
   "cell_type": "code",
   "execution_count": null,
   "id": "d6e32193",
   "metadata": {},
   "outputs": [],
   "source": [
    "\n",
    "\n",
    "# Create the catplot\n",
    "g = sns.catplot(\n",
    "    x=\"day_type\",\n",
    "    y=\"sum_exits\",\n",
    "    data=raw,\n",
    "    hue=\"station\",\n",
    "    kind=\"point\",\n",
    "    errorbar=None\n",
    ")\n",
    "ax = g.ax\n",
    "\n",
    "# Function to format annotation text\n",
    "def get_text_func(index):\n",
    "    category = raw['day_type'].iloc[index]\n",
    "    value = raw['sum_exits'].iloc[index]\n",
    "    return f'Category: {category}\\nValue: {value}'\n",
    "\n",
    "# Create cursor and connect to event\n",
    "cursor = mplcursors.cursor(hover=True)\n",
    "cursor.connect(\"add\", lambda sel: sel.annotation.set_text(get_text_func(sel.index)))\n",
    "\n",
    "# Show the plot\n",
    "plt.show()"
   ]
  },
  {
   "cell_type": "code",
   "execution_count": null,
   "id": "9cda3d9f",
   "metadata": {},
   "outputs": [
    {
     "name": "stdout",
     "output_type": "stream",
     "text": [
      "┌──────────────────┬──────────┬────────────┬────────────────────┬────────────────────┬─────────────────────────┬───────────────────────────────────────────┐\n",
      "│     station      │ day_type │ trip_time  │  average_entries   │    sum_entries     │ trips_from_this_station │ average_number_of_stops_from_this_station │\n",
      "│     varchar      │ varchar  │  varchar   │       double       │       double       │          int64          │                  double                   │\n",
      "├──────────────────┼──────────┼────────────┼────────────────────┼────────────────────┼─────────────────────────┼───────────────────────────────────────────┤\n",
      "│ federal triangle │ saturday │ AM Peak    │           0.734375 │              35.25 │                      48 │                         6.916666666666667 │\n",
      "│ federal triangle │ saturday │ Evening    │  8.764880952380953 │             736.25 │                      84 │                        7.2976190476190474 │\n",
      "│ federal triangle │ saturday │ Midday     │  8.619047619047619 │              724.0 │                      84 │                         7.357142857142857 │\n",
      "│ federal triangle │ saturday │ PM Peak    │  20.13953488372093 │             1732.0 │                      86 │                         7.337209302325581 │\n",
      "│ federal triangle │ sunday   │ AM Peak    │           0.859375 │               27.5 │                      32 │                                   7.34375 │\n",
      "│ federal triangle │ sunday   │ Evening    │             5.8125 │             441.75 │                      76 │                         7.355263157894737 │\n",
      "│ federal triangle │ sunday   │ Midday     │ 13.091463414634147 │             1073.5 │                      82 │                         7.219512195121951 │\n",
      "│ federal triangle │ sunday   │ PM Peak    │ 17.011627906976745 │             1463.0 │                      86 │                         7.337209302325581 │\n",
      "│ federal triangle │ weekday  │ AM Peak    │  2.503246753246754 │ 210.27272727272737 │                      84 │                                      7.25 │\n",
      "│ federal triangle │ weekday  │ Evening    │ 13.191860465116276 │ 1134.4999999999998 │                      86 │                         7.337209302325581 │\n",
      "│ federal triangle │ weekday  │ Midday     │ 19.661733615221994 │ 1690.9090909090914 │                      86 │                         7.337209302325581 │\n",
      "│ federal triangle │ weekday  │ PM Peak    │   77.5280126849894 │  6667.409090909089 │                      86 │                         7.337209302325581 │\n",
      "│ federal triangle │ weekday  │ late_night │ 0.7291666666666666 │               52.5 │                      72 │                         7.555555555555555 │\n",
      "├──────────────────┴──────────┴────────────┴────────────────────┴────────────────────┴─────────────────────────┴───────────────────────────────────────────┤\n",
      "│ 13 rows                                                                                                                                        7 columns │\n",
      "└──────────────────────────────────────────────────────────────────────────────────────────────────────────────────────────────────────────────────────────┘\n",
      "\n"
     ]
    }
   ],
   "source": [
    "with duckdb.connect(root_dir + \"/metro_analytics_dbt/dev.duckdb\") as con:\n",
    "    raw = con.sql(\"from mart__entry_volume_by_station_and_period where station = 'federal triangle';\").show()"
   ]
  },
  {
   "cell_type": "code",
   "execution_count": 41,
   "id": "c8973186",
   "metadata": {},
   "outputs": [
    {
     "name": "stdout",
     "output_type": "stream",
     "text": [
      "┌────────────────────┬─────────────┬────────────────────┬───────────────┬──────────────────────────┐\n",
      "│    exit_station    │ time_of_day │   weekday_exits    │ weekend_exits │ weekday_to_weekend_ratio │\n",
      "│      varchar       │   varchar   │       double       │    double     │          double          │\n",
      "├────────────────────┼─────────────┼────────────────────┼───────────────┼──────────────────────────┤\n",
      "│ federal center sw  │ AM Peak     │ 13604.863636363636 │        581.25 │       23.406217008797654 │\n",
      "│ farragut west      │ AM Peak     │  46493.18181818181 │        2299.5 │        20.21882227361679 │\n",
      "│ medical center     │ AM Peak     │ 11187.409090909088 │         604.5 │       18.506880216557633 │\n",
      "│ pentagon           │ AM Peak     │ 20861.999999999993 │       1143.75 │       18.239999999999995 │\n",
      "│ mcpherson square   │ AM Peak     │  33556.36363636364 │       2142.75 │       15.660419384605595 │\n",
      "│ judiciary square   │ AM Peak     │  19546.09090909091 │       1265.25 │       15.448402220186455 │\n",
      "│ farragut north     │ AM Peak     │  50261.18181818184 │       3266.25 │       15.388038826844802 │\n",
      "│ l'enfant plaza     │ AM Peak     │  39430.36363636365 │        3267.0 │       12.069287920527593 │\n",
      "│ noma gallaudet u   │ AM Peak     │ 10636.363636363636 │        1159.5 │        9.173232976596495 │\n",
      "│ capitol south      │ AM Peak     │  13501.77272727272 │        1528.5 │        8.833348202337403 │\n",
      "│       ·            │    ·        │          ·         │           ·   │                ·         │\n",
      "│       ·            │    ·        │          ·         │           ·   │                ·         │\n",
      "│       ·            │    ·        │          ·         │           ·   │                ·         │\n",
      "│ navy yard ballpark │ Evening     │  2260.636363636364 │       6047.25 │        0.373828825273697 │\n",
      "│ arlington cemetery │ PM Peak     │ 1232.7272727272723 │        3421.5 │       0.3602885496791677 │\n",
      "│ smithsonian        │ Midday      │ 15407.590909090904 │      48209.25 │        0.319598228744295 │\n",
      "│ cleveland park     │ Midday      │ 2528.4545454545464 │       8042.25 │       0.3143964121302554 │\n",
      "│ eastern market     │ Midday      │ 3896.1818181818176 │      13193.25 │       0.2953163032749184 │\n",
      "│ arlington cemetery │ AM Peak     │  908.5909090909095 │        3255.0 │      0.27913699204021797 │\n",
      "│ woodley park       │ Midday      │  5552.999999999999 │      20922.75 │       0.2654048822454027 │\n",
      "│ arlington cemetery │ Midday      │ 2921.5909090909086 │       11982.0 │      0.24383165657577272 │\n",
      "│ navy yard ballpark │ Midday      │  4140.818181818183 │      25203.75 │      0.16429373334595776 │\n",
      "│ stadium armory     │ Midday      │ 1891.0909090909083 │       12403.5 │      0.15246429710089154 │\n",
      "├────────────────────┴─────────────┴────────────────────┴───────────────┴──────────────────────────┤\n",
      "│ 344 rows (20 shown)                                                                    5 columns │\n",
      "└──────────────────────────────────────────────────────────────────────────────────────────────────┘\n",
      "\n"
     ]
    }
   ],
   "source": [
    "query = \"\"\"with\n",
    "weekdays as (\n",
    "    SELECT\n",
    "        ext_station,\n",
    "        day_type,\n",
    "        ent_time_period,\n",
    "        sum(riders) as sum_riders\n",
    "    FROM MART__RIDERSHIP_ENRICHED\n",
    "    WHERE day_type = 'weekday'\n",
    "        AND ent_time_period <> 'late_night'\n",
    "    GROUP BY 1,2,3\n",
    "),\n",
    "weekends as (\n",
    "    SELECT\n",
    "        ext_station,\n",
    "        ent_time_period,\n",
    "        sum(riders) as sum_riders\n",
    "    FROM MART__RIDERSHIP_ENRICHED\n",
    "    WHERE day_type IN ('saturday', 'sunday')\n",
    "        AND ent_time_period <> 'late_night'\n",
    "    GROUP BY 1,2\n",
    "),\n",
    "\n",
    "weekday_weekend_ratio as (\n",
    "    SELECT\n",
    "        wd.ext_station as exit_station,\n",
    "        wd.ent_time_period as time_of_day,\n",
    "        wd.sum_riders as weekday_exits,\n",
    "        we.sum_riders as weekend_exits,\n",
    "        wd.sum_riders / we.sum_riders as weekday_to_weekend_ratio\n",
    "    FROM weekdays as wd\n",
    "    LEFT JOIN weekends as we\n",
    "        ON wd.ext_station = we.ext_station\n",
    "        AND wd.ent_time_period = we.ent_time_period\n",
    "    ORDER BY weekday_to_weekend_ratio DESC\n",
    ")\n",
    "\n",
    "SELECT * FROM weekday_weekend_ratio;\"\"\"\n",
    "\n",
    "with duckdb.connect(root_dir + \"/metro_analytics_dbt/dev.duckdb\") as con:\n",
    "    raw = con.sql(query).show()"
   ]
  },
  {
   "cell_type": "code",
   "execution_count": 42,
   "id": "1f43fbe1",
   "metadata": {},
   "outputs": [
    {
     "name": "stdout",
     "output_type": "stream",
     "text": [
      "┌──────────────────────┬─────────────┬────────────────────┬───────────────────┬──────────────────────────┐\n",
      "│   entrance_station   │ time_of_day │ weekday_entrances  │ weekend_entrances │ weekday_to_weekend_ratio │\n",
      "│       varchar        │   varchar   │       double       │      double       │          double          │\n",
      "├──────────────────────┼─────────────┼────────────────────┼───────────────────┼──────────────────────────┤\n",
      "│ west falls church    │ AM Peak     │  20448.27272727272 │           1301.25 │       15.714330626146182 │\n",
      "│ union station        │ AM Peak     │  29135.18181818181 │           3153.75 │        9.238266133390981 │\n",
      "│ cleveland park       │ AM Peak     │  6987.545454545456 │            782.25 │         8.93262442255731 │\n",
      "│ pentagon             │ AM Peak     │ 19437.136363636368 │            2218.5 │        8.761386686335978 │\n",
      "│ largo                │ AM Peak     │  9801.409090909086 │           1161.75 │        8.436762720816946 │\n",
      "│ grosvenor strathmore │ AM Peak     │ 11316.954545454551 │            1350.0 │        8.382929292929298 │\n",
      "│ morgan boulevard     │ AM Peak     │  3705.954545454546 │            456.75 │        8.113748320644874 │\n",
      "│ clarendon            │ AM Peak     │  5421.272727272726 │             679.5 │        7.978326309452136 │\n",
      "│ branch avenue        │ AM Peak     │ 14485.363636363634 │           1842.75 │       7.8607318607318595 │\n",
      "│ greenbelt            │ AM Peak     │ 12140.999999999998 │            1605.0 │         7.56448598130841 │\n",
      "│     ·                │    ·        │                ·   │               ·   │                 ·        │\n",
      "│     ·                │    ·        │                ·   │               ·   │                 ·        │\n",
      "│     ·                │    ·        │                ·   │               ·   │                 ·        │\n",
      "│ east falls church    │ Evening     │              847.5 │            2215.5 │       0.3825321597833446 │\n",
      "│ vienna               │ Midday      │  5773.363636363637 │          16184.25 │       0.3567272895786729 │\n",
      "│ woodley park         │ PM Peak     │  5823.681818181821 │          18134.25 │       0.3211426895615656 │\n",
      "│ branch avenue        │ PM Peak     │ 1740.9545454545453 │           5768.25 │       0.3018167633952317 │\n",
      "│ fort totten          │ Evening     │ 1929.9545454545446 │           6407.25 │      0.30121417854064453 │\n",
      "│ fort totten          │ Midday      │  4940.999999999998 │          16593.75 │      0.29776271186440667 │\n",
      "│ arlington cemetery   │ Midday      │   2814.40909090909 │            9600.0 │      0.29316761363636357 │\n",
      "│ arlington cemetery   │ PM Peak     │  1929.136363636363 │            7044.0 │        0.273869444014248 │\n",
      "│ east falls church    │ Midday      │ 1977.9545454545453 │           7890.75 │       0.2506674961764782 │\n",
      "│ stadium armory       │ Evening     │ 1094.3181818181813 │           10696.5 │      0.10230619191494239 │\n",
      "├──────────────────────┴─────────────┴────────────────────┴───────────────────┴──────────────────────────┤\n",
      "│ 344 rows (20 shown)                                                                          5 columns │\n",
      "└────────────────────────────────────────────────────────────────────────────────────────────────────────┘\n",
      "\n"
     ]
    }
   ],
   "source": [
    "query = \"\"\"with\n",
    "weekdays as (\n",
    "    SELECT\n",
    "        ent_station,\n",
    "        day_type,\n",
    "        ent_time_period,\n",
    "        sum(riders) as sum_riders\n",
    "    FROM MART__RIDERSHIP_ENRICHED\n",
    "    WHERE day_type = 'weekday'\n",
    "        AND ent_time_period <> 'late_night'\n",
    "    GROUP BY 1,2,3\n",
    "),\n",
    "weekends as (\n",
    "    SELECT\n",
    "        ent_station,\n",
    "        ent_time_period,\n",
    "        sum(riders) as sum_riders\n",
    "    FROM MART__RIDERSHIP_ENRICHED\n",
    "    WHERE day_type IN ('saturday', 'sunday')\n",
    "        AND ent_time_period <> 'late_night'\n",
    "    GROUP BY 1,2\n",
    "),\n",
    "\n",
    "weekday_weekend_ratio as (\n",
    "    SELECT\n",
    "        wd.ent_station as entrance_station,\n",
    "        wd.ent_time_period as time_of_day,\n",
    "        wd.sum_riders as weekday_entrances,\n",
    "        we.sum_riders as weekend_entrances,\n",
    "        wd.sum_riders / we.sum_riders as weekday_to_weekend_ratio\n",
    "    FROM weekdays as wd\n",
    "    LEFT JOIN weekends as we\n",
    "        ON wd.ent_station = we.ent_station\n",
    "        AND wd.ent_time_period = we.ent_time_period\n",
    "    ORDER BY weekday_to_weekend_ratio DESC\n",
    ")\n",
    "\n",
    "SELECT * FROM weekday_weekend_ratio;\"\"\"\n",
    "\n",
    "with duckdb.connect(root_dir + \"/metro_analytics_dbt/dev.duckdb\") as con:\n",
    "    raw = con.sql(query).show()"
   ]
  },
  {
   "cell_type": "code",
   "execution_count": 30,
   "id": "d7994bce",
   "metadata": {},
   "outputs": [
    {
     "name": "stdout",
     "output_type": "stream",
     "text": [
      "┌──────────────────┬─────────────────────┬─────────────────┬────────────┐\n",
      "│   ext_station    │ any_value(day_type) │ ent_time_period │ sum_riders │\n",
      "│     varchar      │       varchar       │     varchar     │   double   │\n",
      "├──────────────────┼─────────────────────┼─────────────────┼────────────┤\n",
      "│ federal triangle │ sunday              │ Midday          │    10305.0 │\n",
      "│ federal triangle │ sunday              │ PM Peak         │     3151.5 │\n",
      "│ federal triangle │ saturday            │ AM Peak         │    3011.25 │\n",
      "│ federal triangle │ sunday              │ Evening         │     812.25 │\n",
      "└──────────────────┴─────────────────────┴─────────────────┴────────────┘\n",
      "\n"
     ]
    }
   ],
   "source": [
    "query = \"\"\"\n",
    "    SELECT\n",
    "        ext_station,\n",
    "        any_value(day_type),\n",
    "        ent_time_period,\n",
    "        sum(riders) as sum_riders\n",
    "    FROM MART__RIDERSHIP_ENRICHED\n",
    "    WHERE day_type IN ('saturday', 'sunday')\n",
    "        AND ent_time_period <> 'late_night'\n",
    "        AND ext_station = 'federal triangle'\n",
    "    GROUP BY 1,3\n",
    "\"\"\"\n",
    "\n",
    "with duckdb.connect(root_dir + \"/metro_analytics_dbt/dev.duckdb\") as con:\n",
    "    raw = con.sql(query).show()"
   ]
  },
  {
   "cell_type": "code",
   "execution_count": 38,
   "id": "9e00b8e0",
   "metadata": {},
   "outputs": [
    {
     "name": "stdout",
     "output_type": "stream",
     "text": [
      "┌──────────────────┬──────────┬─────────────────┬────────────┐\n",
      "│   ext_station    │ day_type │ ent_time_period │ sum_riders │\n",
      "│     varchar      │ varchar  │     varchar     │   double   │\n",
      "├──────────────────┼──────────┼─────────────────┼────────────┤\n",
      "│ federal triangle │ sunday   │ PM Peak         │    1329.75 │\n",
      "│ federal triangle │ saturday │ AM Peak         │     1218.0 │\n",
      "│ federal triangle │ saturday │ PM Peak         │    1821.75 │\n",
      "│ federal triangle │ sunday   │ AM Peak         │    1793.25 │\n",
      "│ federal triangle │ sunday   │ Evening         │     285.75 │\n",
      "│ federal triangle │ saturday │ Evening         │      526.5 │\n",
      "│ federal triangle │ sunday   │ Midday          │     5007.0 │\n",
      "│ federal triangle │ saturday │ Midday          │     5298.0 │\n",
      "└──────────────────┴──────────┴─────────────────┴────────────┘\n",
      "\n"
     ]
    }
   ],
   "source": [
    "query = \"\"\"\n",
    "    SELECT\n",
    "        ext_station,\n",
    "        day_type,\n",
    "        ent_time_period,\n",
    "        sum(riders) as sum_riders\n",
    "    FROM MART__RIDERSHIP_ENRICHED\n",
    "    WHERE day_type IN ('saturday', 'sunday')\n",
    "        AND ent_time_period <> 'late_night'\n",
    "        AND ext_station = 'federal triangle'\n",
    "    GROUP BY 1,2,3\n",
    "\"\"\"\n",
    "\n",
    "with duckdb.connect(root_dir + \"/metro_analytics_dbt/dev.duckdb\") as con:\n",
    "    raw = con.sql(query).show()"
   ]
  },
  {
   "cell_type": "code",
   "execution_count": null,
   "id": "edc25b2a",
   "metadata": {},
   "outputs": [],
   "source": []
  }
 ],
 "metadata": {
  "kernelspec": {
   "display_name": "dctrans",
   "language": "python",
   "name": "python3"
  },
  "language_info": {
   "codemirror_mode": {
    "name": "ipython",
    "version": 3
   },
   "file_extension": ".py",
   "mimetype": "text/x-python",
   "name": "python",
   "nbconvert_exporter": "python",
   "pygments_lexer": "ipython3",
   "version": "3.13.1"
  }
 },
 "nbformat": 4,
 "nbformat_minor": 5
}
